{
  "nbformat": 4,
  "nbformat_minor": 0,
  "metadata": {
    "colab": {
      "name": "Untitled16.ipynb",
      "provenance": [],
      "authorship_tag": "ABX9TyPndiJGuqHfJvk/8HC22Lur",
      "include_colab_link": true
    },
    "kernelspec": {
      "name": "python3",
      "display_name": "Python 3"
    }
  },
  "cells": [
    {
      "cell_type": "markdown",
      "metadata": {
        "id": "view-in-github",
        "colab_type": "text"
      },
      "source": [
        "<a href=\"https://colab.research.google.com/github/18K41A0479/Assignment-2/blob/master/Untitled16.ipynb\" target=\"_parent\"><img src=\"https://colab.research.google.com/assets/colab-badge.svg\" alt=\"Open In Colab\"/></a>"
      ]
    },
    {
      "cell_type": "code",
      "metadata": {
        "id": "45RnrP3JKdZJ",
        "colab_type": "code",
        "colab": {
          "base_uri": "https://localhost:8080/",
          "height": 85
        },
        "outputId": "cc81c43f-6378-47f1-b806-d2fd83020ff8"
      },
      "source": [
        "#1. Area of the triangle.\n",
        "\n",
        "a=float(input(\"Enter 1st side:\"))  \n",
        "b=float(input(\"Enter 2nd side:\"))  \n",
        "c=float(input(\"Enter 3rd side:\"))  \n",
        "if(a+b>c):\n",
        "  s=(a+b+c)/2  \n",
        "  area=(s*(s-a)*(s-b)*(s-c))**(1/2)\n",
        "  print(\"Area is= \", round(area,3))\n",
        "else:\n",
        "  print(\"Triangle inot possible\")"
      ],
      "execution_count": 1,
      "outputs": [
        {
          "output_type": "stream",
          "text": [
            "Enter 1st side:10\n",
            "Enter 2nd side:15\n",
            "Enter 3rd side:20\n",
            "Area is=  72.618\n"
          ],
          "name": "stdout"
        }
      ]
    },
    {
      "cell_type": "code",
      "metadata": {
        "id": "S5uSKISOMCig",
        "colab_type": "code",
        "colab": {
          "base_uri": "https://localhost:8080/",
          "height": 51
        },
        "outputId": "88a7ecb0-6163-49e1-a36d-dd02c26b9336"
      },
      "source": [
        "#2. Take a string from end user and check if the value is palindrome or not.\n",
        "\n",
        "s=input(\"Enter a string:\")\n",
        "if (s==s[::-1]):\n",
        "    print(\"Palindrome\")\n",
        "else:\n",
        "    print(\"Not a palindrome\")"
      ],
      "execution_count": 9,
      "outputs": [
        {
          "output_type": "stream",
          "text": [
            "Enter a string:malayalam\n",
            "Palindrome\n"
          ],
          "name": "stdout"
        }
      ]
    },
    {
      "cell_type": "code",
      "metadata": {
        "id": "f87WNcZ4NWoY",
        "colab_type": "code",
        "colab": {
          "base_uri": "https://localhost:8080/",
          "height": 51
        },
        "outputId": "7a42c9b2-dcd7-499f-d705-02d9ff85b178"
      },
      "source": [
        "#3.Leap year or not \n",
        "year=int(input(\"Enter the year:\"))\n",
        "if(year%4==0 and year%100!=0 or year%==0):\n",
        "    print(\"The entered year\" , year,\"is leap year\")\n",
        "else:\n",
        "    print(\"The entered year\",year,\"is not a leap year\")"
      ],
      "execution_count": 11,
      "outputs": [
        {
          "output_type": "stream",
          "text": [
            "Enter the year:2004\n",
            "The entered year 2004 is leap year\n"
          ],
          "name": "stdout"
        }
      ]
    },
    {
      "cell_type": "code",
      "metadata": {
        "id": "SlMNlJ4fN_mn",
        "colab_type": "code",
        "colab": {
          "base_uri": "https://localhost:8080/",
          "height": 51
        },
        "outputId": "de84024e-44c2-4361-968f-5f5f6b05afca"
      },
      "source": [
        "#4. Space to Hyphen problem\n",
        "\n",
        "string=input(\"Enter string : \")\n",
        "print(string.replace(' ','-'))"
      ],
      "execution_count": 15,
      "outputs": [
        {
          "output_type": "stream",
          "text": [
            "Enter string : i am studying python\n",
            "i-am-studying-python\n"
          ],
          "name": "stdout"
        }
      ]
    },
    {
      "cell_type": "code",
      "metadata": {
        "id": "lx6A5sVBOkSv",
        "colab_type": "code",
        "colab": {
          "base_uri": "https://localhost:8080/",
          "height": 51
        },
        "outputId": "6f20482f-1252-459e-a01f-0f4911665575"
      },
      "source": [
        "\n",
        "#5. Unique Sort Problem.\n",
        "string=input(\"Enter a string: \")\n",
        "s=string.split()\n",
        "s.sort()\n",
        "list(s)\n",
        "set(s)"
      ],
      "execution_count": 19,
      "outputs": [
        {
          "output_type": "stream",
          "text": [
            "Enter a string: banana mango apple\n"
          ],
          "name": "stdout"
        },
        {
          "output_type": "execute_result",
          "data": {
            "text/plain": [
              "{'apple', 'banana', 'mango'}"
            ]
          },
          "metadata": {
            "tags": []
          },
          "execution_count": 19
        }
      ]
    },
    {
      "cell_type": "code",
      "metadata": {
        "id": "wIKkNxHTQE0Z",
        "colab_type": "code",
        "colab": {
          "base_uri": "https://localhost:8080/",
          "height": 51
        },
        "outputId": "85fa0148-6852-42f1-fc6b-12fb05e818e5"
      },
      "source": [
        "#6. Tax Calculator\n",
        "s=int(input(\"Enter the salary : \"))\n",
        "if (s>=0) and (s<=250000):\n",
        "    tax=(s*0)\n",
        "elif (s>250000) and (s<=500000):\n",
        "    tax=(s*0.05)\n",
        "elif (s>500000) and (s<=750000):\n",
        "    tax=(s*0.1)\n",
        "elif (s>750000) and (s<=1000000):\n",
        "    tax=(s*0.15)\n",
        "elif (s>1000000) and (s<=1250000):\n",
        "    tax=(s*0.2)\n",
        "elif (s>1250000) and (s<=1500000):\n",
        "    tax=(s*0.25)\n",
        "else:\n",
        "    tax=(s*0.3)\n",
        "print(\"Tax is : \",tax)"
      ],
      "execution_count": 21,
      "outputs": [
        {
          "output_type": "stream",
          "text": [
            "Enter the salary : 300000\n",
            "Tax is :  15000.0\n"
          ],
          "name": "stdout"
        }
      ]
    },
    {
      "cell_type": "code",
      "metadata": {
        "id": "aUnn9Z9sRtTP",
        "colab_type": "code",
        "colab": {
          "base_uri": "https://localhost:8080/",
          "height": 34
        },
        "outputId": "4bc79107-03ea-440f-e516-ea1b3749a16d"
      },
      "source": [
        "#7. Take a list of integers as an argument, and converts it into a single integer (return the integer).\n",
        "#   input:[11,33,50]\n",
        "#   output:113350\n",
        "\n",
        "List=[11,33,50]\n",
        "for i in List:\n",
        "  print(i,end=\"\")"
      ],
      "execution_count": 22,
      "outputs": [
        {
          "output_type": "stream",
          "text": [
            "113350"
          ],
          "name": "stdout"
        }
      ]
    },
    {
      "cell_type": "code",
      "metadata": {
        "id": "wq3pur-sSfdO",
        "colab_type": "code",
        "colab": {
          "base_uri": "https://localhost:8080/",
          "height": 102
        },
        "outputId": "b6be8da0-967e-41ed-f638-1fc0a3397cd2"
      },
      "source": [
        "#8.\tUnits of Time\n",
        "#Create a program that reads duration from the user as a number of days, hours, minutes, and seconds.\n",
        "# Compute and display the total number of seconds represented by this duration. \n",
        "secpermin=60\n",
        "secperhour=3600\n",
        "secperday=86400\n",
        "days=int(input(\"Enter Days: \"))\n",
        "hours=int(input(\"Enter Hours: \"))\n",
        "minutes=int(input(\"Enter Minutes: \"))\n",
        "seconds=int(input(\"Enter Seconds: \"))\n",
        "totalsec=days*secperday\n",
        "totalsec=totalsec+(hours*secperhour)\n",
        "totalsec=totalsec+(minutes*secpermin)\n",
        "totalsec=totalsec+seconds\n",
        "print(\"Total number of seconds = \",\"%d\"%(totalsec))\n"
      ],
      "execution_count": 24,
      "outputs": [
        {
          "output_type": "stream",
          "text": [
            "Enter Days: 2\n",
            "Enter Hours: 4\n",
            "Enter Minutes: 54\n",
            "Enter Seconds: 55\n",
            "Total number of seconds =  190495\n"
          ],
          "name": "stdout"
        }
      ]
    },
    {
      "cell_type": "code",
      "metadata": {
        "id": "UWpfiQ1fTg5Q",
        "colab_type": "code",
        "colab": {
          "base_uri": "https://localhost:8080/",
          "height": 85
        },
        "outputId": "a287c1db-da1e-43b8-e140-b330394a8282"
      },
      "source": [
        "#9.Sort 3 Integers\n",
        "# Given three integers (given through user input), sort the numbers using |min| and  |max| functions.\n",
        "\n",
        "a=int(input(\"Enter a:\"))\n",
        "b=int(input(\"Enter b:\"))\n",
        "c=int(input(\"Enter c:\"))\n",
        "d=min(a,b,c)\n",
        "e=max(a,b,c)\n",
        "f=(a+b+c)-d-e\n",
        "print(\"The Sorted order is:\",d,f,e)"
      ],
      "execution_count": 25,
      "outputs": [
        {
          "output_type": "stream",
          "text": [
            "Enter a:20\n",
            "Enter b:10\n",
            "Enter c:30\n",
            "The Sorted order is: 10 20 30\n"
          ],
          "name": "stdout"
        }
      ]
    },
    {
      "cell_type": "code",
      "metadata": {
        "id": "8IyVMmH9UJcf",
        "colab_type": "code",
        "colab": {
          "base_uri": "https://localhost:8080/",
          "height": 85
        },
        "outputId": "4512b870-800e-4b39-b52f-272dd9821731"
      },
      "source": [
        "#10.Write a program that reads a date from the user and computes its immediate successor.\n",
        "#The date is the format YYYY-MM-DD. So, 2020-04-15 will have the successor 2020-04-16.\n",
        "yr=int(input(\"Enter year: \"))\n",
        "if yr%400== 0:\n",
        "    leapyear=True\n",
        "elif yr%100==0:\n",
        "    leapyear=False\n",
        "elif yr%4==0:\n",
        "    leapyear=True\n",
        "else:\n",
        "    leapyear=False\n",
        "mon=int(input(\"Enter a month between 1 to 12 : \"))\n",
        "if mon in (1, 3, 5, 7, 8, 10, 12):\n",
        "    monthlength=31\n",
        "elif mon==2:\n",
        "    if leapyear:\n",
        "        monthlength=29\n",
        "    else:\n",
        "        monthlength=28\n",
        "else:\n",
        "    monthlength=30\n",
        "day=int(input(\"Enter a day between 1 to 31 : \"))\n",
        "if day<monthlength:\n",
        "    day+=1\n",
        "else:\n",
        "    day=1\n",
        "    if mon==12:\n",
        "        mon=1\n",
        "        year+=1\n",
        "    else:\n",
        "        mon+=1\n",
        "print(\"The immediate successor is YYYY-MM-DD : %d-%d-%d.\" %(year,mon,day))\n"
      ],
      "execution_count": 27,
      "outputs": [
        {
          "output_type": "stream",
          "text": [
            "Enter year: 2020\n",
            "Enter a month between 1 to 12 : 4\n",
            "Enter a day between 1 to 31 : 30\n",
            "The immediate successor is YYYY-MM-DD : 2004-5-1.\n"
          ],
          "name": "stdout"
        }
      ]
    },
    {
      "cell_type": "code",
      "metadata": {
        "id": "wjnw08miVK3J",
        "colab_type": "code",
        "colab": {
          "base_uri": "https://localhost:8080/",
          "height": 34
        },
        "outputId": "7db739a7-d107-410e-d398-3cef84b689bf"
      },
      "source": [
        "#11.\tCompute product of a list of numbers [45 ,3,2,89,72,1,10,7]\n",
        "#Output: 121111200\n",
        "List=[45,3,2,89,72,1,10,7]\n",
        "n=1\n",
        "for i in range(len(List)):\n",
        "    n=n*List[i]\n",
        "print(n)"
      ],
      "execution_count": 30,
      "outputs": [
        {
          "output_type": "stream",
          "text": [
            "121111200\n"
          ],
          "name": "stdout"
        }
      ]
    },
    {
      "cell_type": "code",
      "metadata": {
        "id": "7tQM7Zx4VkqT",
        "colab_type": "code",
        "colab": {
          "base_uri": "https://localhost:8080/",
          "height": 34
        },
        "outputId": "bad30c7f-06cf-4d7a-8949-deeaeb44fef1"
      },
      "source": [
        "#12.\tCompute given Num_list =  [5, 6,8 ,34,89,1] to get desired output\n",
        "#Output: Out_list=[11,14,42,123,90]\n",
        "\n",
        "l=[5,6,8,34,89,1]\n",
        "List=[]\n",
        "for i in range(len(l)-1):\n",
        "    a=l[i]+l[i+1]\n",
        "    List.append(a)\n",
        "print(\"Out_list=\",List)\n"
      ],
      "execution_count": 32,
      "outputs": [
        {
          "output_type": "stream",
          "text": [
            "Out_list= [11, 14, 42, 123, 90]\n"
          ],
          "name": "stdout"
        }
      ]
    },
    {
      "cell_type": "code",
      "metadata": {
        "id": "inGn-ZoIWYT_",
        "colab_type": "code",
        "colab": {
          "base_uri": "https://localhost:8080/",
          "height": 34
        },
        "outputId": "89a3e724-d785-454e-fa38-27bcc45251b1"
      },
      "source": [
        "#13.Compute given Num_tuple =  (5, 6,8 ,3,9,1) to get desired output\n",
        "#Output: Out_list = [5, 30, 240, 720, 6480, 6480]\n",
        "\n",
        "n=(5,6,8,3,9,1)\n",
        "Out_list=[]\n",
        "Out_list.append(n[0])\n",
        "for i in range(len(n)-1):\n",
        "    m=Out_list[i]*n[i+1]\n",
        "    Out_list.append(m)\n",
        "print(\"Out_list=\",Out_list)\n"
      ],
      "execution_count": 34,
      "outputs": [
        {
          "output_type": "stream",
          "text": [
            "Out_list= [5, 30, 240, 720, 6480, 6480]\n"
          ],
          "name": "stdout"
        }
      ]
    },
    {
      "cell_type": "code",
      "metadata": {
        "id": "pPwk_IFmXKjE",
        "colab_type": "code",
        "colab": {
          "base_uri": "https://localhost:8080/",
          "height": 51
        },
        "outputId": "14bbfebf-ddba-4392-a85b-50cfd637e950"
      },
      "source": [
        "#14.Write a Python code that takes a number and returns a list of its digits. So for 586392 it should return [5,8,6,3,9,2]\n",
        "num=input(\"Enter a number: \")\n",
        "List=[]\n",
        "for n in range(len(num)):\n",
        "    List.append(num[n])\n",
        "print(List)"
      ],
      "execution_count": 37,
      "outputs": [
        {
          "output_type": "stream",
          "text": [
            "Enter a number: 586392\n",
            "['5', '8', '6', '3', '9', '2']\n"
          ],
          "name": "stdout"
        }
      ]
    },
    {
      "cell_type": "code",
      "metadata": {
        "id": "q4_a3vTNXx7r",
        "colab_type": "code",
        "colab": {
          "base_uri": "https://localhost:8080/",
          "height": 51
        },
        "outputId": "bc252c5b-6eb0-495d-cdba-2a94a87a674d"
      },
      "source": [
        "#15.\tWrite a program that finds the longest palindromic substring of a given string\n",
        "def longestpalindrome(n):\n",
        "    d=[[False for i in range(len(n))] for i in range(len(n))]\n",
        "    for i in range(len(n)):\n",
        "        d[i][i]=True\n",
        "    maxlen=1\n",
        "    start=0\n",
        "    for j in range(2,len(n)+1):\n",
        "        for i in range(len(n)-j+1):\n",
        "            end=i+j\n",
        "            if j==2:\n",
        "                if n[i]==n[end-1]:\n",
        "                    d[i][end-1]=True\n",
        "                    maxlen=j\n",
        "                    start=i\n",
        "            else:\n",
        "                if n[i]==n[end-1] and d[i+1][end-2]:\n",
        "                    d[i][end-1]=True\n",
        "                    maxlen=j\n",
        "                    start=i\n",
        "    return n[start:start+maxlen]\n",
        "n=input(\"Enter a str: \")\n",
        "print(longestpalindrome(n))"
      ],
      "execution_count": 43,
      "outputs": [
        {
          "output_type": "stream",
          "text": [
            "Enter a str: sanjana\n",
            "ana\n"
          ],
          "name": "stdout"
        }
      ]
    },
    {
      "cell_type": "code",
      "metadata": {
        "id": "cMAfNiT8ZSZB",
        "colab_type": "code",
        "colab": {
          "base_uri": "https://localhost:8080/",
          "height": 68
        },
        "outputId": "2a530677-d057-4d2c-abc5-ace57f451b2c"
      },
      "source": [
        "#16.\t Substring Check (Bug Funny)\n",
        "#Given two binary strings, A (of length 10) and B (of length 5), output 1 if B is a substring of A and 0 otherwise.\n",
        "#First two lines of input:\n",
        "#1010110010          10110\n",
        "#1110111011           10011\n",
        "#First two lines of output:\n",
        "#1\n",
        "#0\n",
        "str1=input(\"enter string 1\")\n",
        "str2=input(\"enter string 2\")\n",
        "if str2 in str1:\n",
        "  print(\"1\")\n",
        "else:\n",
        "  print(\"0\")"
      ],
      "execution_count": 44,
      "outputs": [
        {
          "output_type": "stream",
          "text": [
            "enter string 11010110010\n",
            "enter string 210110\n",
            "1\n"
          ],
          "name": "stdout"
        }
      ]
    },
    {
      "cell_type": "code",
      "metadata": {
        "id": "zWYNeBS_aWAZ",
        "colab_type": "code",
        "colab": {
          "base_uri": "https://localhost:8080/",
          "height": 102
        },
        "outputId": "7e9ffd58-ad40-4463-d802-652b61ba9aa8"
      },
      "source": [
        "#17.\t  POUR1 - Pouring water\n",
        "#Given two vessels, one of which can accommodate a litres of water and the other - b litres of water, determine the number of steps required to obtain exactly c litres of water in one of the vessels.\n",
        "#At the beginning both vessels are empty. The following operations are counted as 'steps':\n",
        "#•\temptying a vessel,\n",
        "#•\tfilling a vessel,\n",
        "#•\tpouring water from one vessel to the other, without spilling, until one of the vessels is either full or empty.\n",
        "def gcd(a,b):\n",
        "    if b==0: \n",
        "        return a \n",
        "    return gcd(b,a%b) \n",
        "def countsteps(a,b,c): \n",
        "    v1=b\n",
        "    v2=0\n",
        "    count=1\n",
        "    while ((v1 is not c) and (v2 is not c)): \n",
        "        temp=min(v1,a-v2) \n",
        "        v2=v2+temp \n",
        "        v1=v1-temp \n",
        "        count=count+1\n",
        "        if ((v2==c)or(v1==c)): \n",
        "            break\n",
        "        if v1==0: \n",
        "            v1=b \n",
        "            count=count+1\n",
        "        if v2==a: \n",
        "            v2=0\n",
        "            count=count+1\n",
        "    return count \n",
        "def ispossible(a,b,c): \n",
        "    if a>b: \n",
        "        temp=a \n",
        "        a=b \n",
        "        b=temp \n",
        "    if c>b: \n",
        "        return -1\n",
        "    if (c%(gcd(b,a)) is not 0): \n",
        "        return -1\n",
        "    return(min(countsteps(b,a,c),countsteps(a,b,c)))\n",
        "t=int(input(\"Enter no of testcases : \"))\n",
        "for i in range(t):\n",
        "  a=int(input(\"Enter capacity of vessel a: \"))\n",
        "  b=int(input(\"Enter capacity of vessel b: \"))\n",
        "  c=int(input(\"Enter capacity to be obtained:\"))\n",
        "  print(\"Minimum number of steps required is : \",ispossible(a,b,c))\n"
      ],
      "execution_count": 47,
      "outputs": [
        {
          "output_type": "stream",
          "text": [
            "Enter no of testcases : 1\n",
            "Enter capacity of vessel a: 5\n",
            "Enter capacity of vessel b: 6\n",
            "Enter capacity to be obtained:6\n",
            "Minimum number of steps required is :  1\n"
          ],
          "name": "stdout"
        }
      ]
    }
  ]
}